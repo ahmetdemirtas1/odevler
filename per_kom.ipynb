{
  "nbformat": 4,
  "nbformat_minor": 0,
  "metadata": {
    "colab": {
      "name": "Untitled4.ipynb",
      "version": "0.3.2",
      "provenance": []
    },
    "kernelspec": {
      "name": "python3",
      "display_name": "Python 3"
    }
  },
  "cells": [
    {
      "metadata": {
        "id": "iZk09x84Zq9o",
        "colab_type": "text"
      },
      "cell_type": "markdown",
      "source": [
        "Permutasyon odev :\n",
        "\n",
        "\"\"\"Verilen bir kelimenin farklı şekillerde sıralamasının yapılması.\"\"\""
      ]
    },
    {
      "metadata": {
        "id": "ezHI77LubeYW",
        "colab_type": "code",
        "colab": {
          "base_uri": "https://localhost:8080/",
          "height": 122
        },
        "outputId": "ba332636-a40f-4169-910d-33f2a1ba2d59"
      },
      "cell_type": "code",
      "source": [
        "from itertools import combinations,combinations_with_replacement\n",
        "\n",
        "\n",
        "kelime = input(\"Sıralamsını istediğiniz kelimeyi yazınız :\")\n",
        "\n",
        "if kelime == \"\":\n",
        "    print(\"---\")\n",
        "elif kelime == len(kelime):\n",
        "    print(\"sonuç = 1\")\n",
        "else:\n",
        "    perm = ([''.join(p) for p in permutations(kelime)])\n",
        "    print(perm)\n",
        "    print(\"\\n\")\n",
        "    print(\"{} ifadesi {} farklı şekilde sırlanır: \".format(kelime,len(perm)))\n",
        "\n",
        "\n",
        "\n",
        "\n"
      ],
      "execution_count": 7,
      "outputs": [
        {
          "output_type": "stream",
          "text": [
            "Sıralamsını istediğiniz kelimeyi yazınız :ahmet\n",
            "['ahmet', 'ahmte', 'ahemt', 'ahetm', 'ahtme', 'ahtem', 'amhet', 'amhte', 'ameht', 'ameth', 'amthe', 'amteh', 'aehmt', 'aehtm', 'aemht', 'aemth', 'aethm', 'aetmh', 'athme', 'athem', 'atmhe', 'atmeh', 'atehm', 'atemh', 'hamet', 'hamte', 'haemt', 'haetm', 'hatme', 'hatem', 'hmaet', 'hmate', 'hmeat', 'hmeta', 'hmtae', 'hmtea', 'heamt', 'heatm', 'hemat', 'hemta', 'hetam', 'hetma', 'htame', 'htaem', 'htmae', 'htmea', 'hteam', 'htema', 'mahet', 'mahte', 'maeht', 'maeth', 'mathe', 'mateh', 'mhaet', 'mhate', 'mheat', 'mheta', 'mhtae', 'mhtea', 'meaht', 'meath', 'mehat', 'mehta', 'metah', 'metha', 'mtahe', 'mtaeh', 'mthae', 'mthea', 'mteah', 'mteha', 'eahmt', 'eahtm', 'eamht', 'eamth', 'eathm', 'eatmh', 'ehamt', 'ehatm', 'ehmat', 'ehmta', 'ehtam', 'ehtma', 'emaht', 'emath', 'emhat', 'emhta', 'emtah', 'emtha', 'etahm', 'etamh', 'etham', 'ethma', 'etmah', 'etmha', 'tahme', 'tahem', 'tamhe', 'tameh', 'taehm', 'taemh', 'thame', 'thaem', 'thmae', 'thmea', 'theam', 'thema', 'tmahe', 'tmaeh', 'tmhae', 'tmhea', 'tmeah', 'tmeha', 'teahm', 'teamh', 'teham', 'tehma', 'temah', 'temha']\n",
            "\n",
            "\n",
            "ahmet ifadesi 120 farklı şekilde sırlanır: \n"
          ],
          "name": "stdout"
        }
      ]
    },
    {
      "metadata": {
        "id": "HaUp0EzqcXfn",
        "colab_type": "code",
        "colab": {
          "base_uri": "https://localhost:8080/",
          "height": 272
        },
        "outputId": "7e96b54e-3e77-452d-bed3-e9cd72857936"
      },
      "cell_type": "code",
      "source": [
        "from itertools import combinations,combinations_with_replacement\n",
        "\n",
        "\n",
        "combn = combinations([1,2,3,6,8,9], 2) \n",
        "i= 1\n",
        "for c in list(combn):\n",
        "    print(c,i)\n",
        "    i +=1"
      ],
      "execution_count": 17,
      "outputs": [
        {
          "output_type": "stream",
          "text": [
            "(1, 2) 1\n",
            "(1, 3) 2\n",
            "(1, 6) 3\n",
            "(1, 8) 4\n",
            "(1, 9) 5\n",
            "(2, 3) 6\n",
            "(2, 6) 7\n",
            "(2, 8) 8\n",
            "(2, 9) 9\n",
            "(3, 6) 10\n",
            "(3, 8) 11\n",
            "(3, 9) 12\n",
            "(6, 8) 13\n",
            "(6, 9) 14\n",
            "(8, 9) 15\n"
          ],
          "name": "stdout"
        }
      ]
    },
    {
      "metadata": {
        "id": "fJ24mY0mdn04",
        "colab_type": "text"
      },
      "cell_type": "markdown",
      "source": [
        "Tekrarsız kombinasyon"
      ]
    },
    {
      "metadata": {
        "id": "adRhkXKFbuJ-",
        "colab_type": "text"
      },
      "cell_type": "markdown",
      "source": [
        "Kombinasyon odev "
      ]
    },
    {
      "metadata": {
        "id": "0C2Vi7W2bhMv",
        "colab_type": "code",
        "colab": {
          "base_uri": "https://localhost:8080/",
          "height": 374
        },
        "outputId": "c5f62365-a88a-4499-aaf1-7b19af94dec4"
      },
      "cell_type": "code",
      "source": [
        "\n",
        "from itertools import combinations,combinations_with_replacement\n",
        "\n",
        "comb = combinations_with_replacement([1,2,3,6,8,9], 2) \n",
        "c=1\n",
        "# Print the obtained combinations \n",
        "for i in list(comb): \n",
        "    print (i,c)\n",
        "    c +=1"
      ],
      "execution_count": 20,
      "outputs": [
        {
          "output_type": "stream",
          "text": [
            "(1, 1) 1\n",
            "(1, 2) 2\n",
            "(1, 3) 3\n",
            "(1, 6) 4\n",
            "(1, 8) 5\n",
            "(1, 9) 6\n",
            "(2, 2) 7\n",
            "(2, 3) 8\n",
            "(2, 6) 9\n",
            "(2, 8) 10\n",
            "(2, 9) 11\n",
            "(3, 3) 12\n",
            "(3, 6) 13\n",
            "(3, 8) 14\n",
            "(3, 9) 15\n",
            "(6, 6) 16\n",
            "(6, 8) 17\n",
            "(6, 9) 18\n",
            "(8, 8) 19\n",
            "(8, 9) 20\n",
            "(9, 9) 21\n"
          ],
          "name": "stdout"
        }
      ]
    },
    {
      "metadata": {
        "id": "2o8ZbMfyeQbs",
        "colab_type": "text"
      },
      "cell_type": "markdown",
      "source": [
        "Tekrarlı kombinasyon "
      ]
    },
    {
      "metadata": {
        "id": "U77pERWIckzC",
        "colab_type": "code",
        "colab": {}
      },
      "cell_type": "code",
      "source": [
        ""
      ],
      "execution_count": 0,
      "outputs": []
    }
  ]
}