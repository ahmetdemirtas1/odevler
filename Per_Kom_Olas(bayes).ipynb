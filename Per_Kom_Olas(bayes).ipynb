{
 "cells": [
  {
   "cell_type": "markdown",
   "metadata": {},
   "source": [
    "<a href=\"https://colab.research.google.com/github/googlecolab/colabtools/blob/master/notebooks/Per_Kom_Olasılık.ipynb\">\n",
    "  <img src=\"https://colab.research.google.com/assets/colab-badge.svg\" alt=\"Open In Colab\"/>\n",
    "</a>"
   ]
  },
  {
   "cell_type": "markdown",
   "metadata": {},
   "source": [
    "Permutasyon Soru :6 arkadaştan 4’ü masaya oturucaktır. Bu 4 kişi kaç farklı şekilde masaya oturabilir?\n"
   ]
  },
  {
   "cell_type": "code",
   "execution_count": 6,
   "metadata": {},
   "outputs": [
    {
     "name": "stdout",
     "output_type": "stream",
     "text": [
      "Permütasyon hesabı için lütfen sayıları giriniz.\n",
      "1. Sayı Giriniz: 6\n",
      "2. Sayı Giriniz: 3\n",
      "nSonuç: 120.0\n"
     ]
    }
   ],
   "source": [
    "def faktoriyelHesapla(i):\n",
    "    \n",
    "    if i==1:       \n",
    "        return 1\n",
    "    \n",
    "    else: \n",
    "        return i * faktoriyelHesapla(i-1)\n",
    "    \n",
    "def permutasyonHesapla(j,k):\n",
    "    \n",
    "    l = 0\n",
    "    \n",
    "    if k>j:        \n",
    "        l = l\n",
    "        \n",
    "    else:      \n",
    "        l = faktoriyelHesapla(j)/faktoriyelHesapla(j-k)\n",
    "        return l\n",
    "    \n",
    "print(\"Permütasyon hesabı için lütfen sayıları giriniz.\")   \n",
    "sayi1 = int(input(\"1. Sayı Giriniz: \"))\n",
    "sayi2 = int(input(\"2. Sayı Giriniz: \")) \n",
    "print(\"nSonuç:\", permutasyonHesapla(sayi1,sayi2) )"
   ]
  },
  {
   "cell_type": "markdown",
   "metadata": {},
   "source": [
    "Soru: Verilen iki sayının kombinasyonunu "
   ]
  },
  {
   "cell_type": "code",
   "execution_count": 7,
   "metadata": {},
   "outputs": [
    {
     "name": "stdout",
     "output_type": "stream",
     "text": [
      "Kombinasyon hesabı için lütfen sayıları giriniz.\n",
      "1. Sayı Giriniz: 6\n",
      "2. Sayı Giriniz: 3\n",
      "nSonuç: 20.0\n"
     ]
    }
   ],
   "source": [
    "#Baska Bir Kod - Python Soru / Cevap \n",
    "def faktoriyelHesapla(i):\n",
    "    \n",
    "    if i==1:       \n",
    "        return 1\n",
    "    \n",
    "    else: \n",
    "        return i * faktoriyelHesapla(i-1)\n",
    "    \n",
    "def kombinasyonHesapla(j,k):\n",
    "    \n",
    "    if (j<k):\n",
    "        print(\"1. Sayının 2. Sayıdan büyük yada eşit olması gerekli. Verdiğiniz sayıların çözümü yoktur!\")\n",
    "   \n",
    "    elif(j==k):\n",
    "        print(\"1\")\n",
    "    \n",
    "    elif(j>k):\n",
    "        \n",
    "        s=1\n",
    "        s= faktoriyelHesapla(j) #n faktöriyel\n",
    "        \n",
    "        l=1\n",
    "        l= faktoriyelHesapla(k) #m faktöriyel\n",
    "        \n",
    "        f=1\n",
    "        f= faktoriyelHesapla(j-k) #n-m faktöriyel\n",
    "        \n",
    "        w=s/(l*f)\n",
    "        return w\n",
    "    \n",
    "    \n",
    "print(\"Kombinasyon hesabı için lütfen sayıları giriniz.\")   \n",
    "sayi1 = int(input(\"1. Sayı Giriniz: \"))\n",
    "sayi2 = int(input(\"2. Sayı Giriniz: \")) \n",
    "print(\"nSonuç:\",kombinasyonHesapla(sayi1,sayi2) )"
   ]
  },
  {
   "cell_type": "markdown",
   "metadata": {},
   "source": [
    "Olasılık Bayes Teoremi: Aynı anda atılan 25 demir paradan tura gelenlerin sayısı ve tura gelme ihtimali nedir."
   ]
  },
  {
   "cell_type": "code",
   "execution_count": 66,
   "metadata": {
    "collapsed": true
   },
   "outputs": [],
   "source": [
    "import numpy as np\n",
    "#tura gelme ihtimali\n",
    "ph = 0.5\n",
    "#aynı anda atılan demir para sayısı\n",
    "num_flips = 25\n",
    "def flip_coin(N,p=0.5):\n",
    "    prob = [p, (1 -p)]\n",
    "    return (np.random.choice(['H','T'],size=N,p =prob))\n"
   ]
  },
  {
   "cell_type": "code",
   "execution_count": 82,
   "metadata": {},
   "outputs": [
    {
     "name": "stdout",
     "output_type": "stream",
     "text": [
      "Flips H T T H H H T H H T T H H H T H T H H H H T H H H\n",
      "25\n",
      "Number of Heads :17\n",
      "P(H) = 0.68 (Numnber of Heads/Total flips)\n"
     ]
    }
   ],
   "source": [
    "##atılan demir paraların toplamı\n",
    "            \n",
    "flips = flip_coin(num_flips,ph)\n",
    "\n",
    "#turu olanların toplamı\n",
    "num_heads = np.sum(flips =='H')\n",
    "\n",
    "print(\"Flips\",\" \".join(flips))\n",
    "print(f\"Number of Heads :{num_heads}\")\n",
    "print(f'P(H) = {num_heads/num_flips} (Numnber of Heads/Total flips)')\n",
    "\n"
   ]
  }
 ],
 "metadata": {
  "kernelspec": {
   "display_name": "Python 3",
   "language": "python",
   "name": "python3"
  },
  "language_info": {
   "codemirror_mode": {
    "name": "ipython",
    "version": 3
   },
   "file_extension": ".py",
   "mimetype": "text/x-python",
   "name": "python",
   "nbconvert_exporter": "python",
   "pygments_lexer": "ipython3",
   "version": "3.6.2"
  }
 },
 "nbformat": 4,
 "nbformat_minor": 2
}
